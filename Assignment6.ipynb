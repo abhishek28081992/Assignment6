{
 "cells": [
  {
   "cell_type": "code",
   "execution_count": 3,
   "id": "e77bbe2d-703d-49de-8324-20af6d4b761d",
   "metadata": {},
   "outputs": [],
   "source": [
    "#Answer1\n",
    "\n",
    "#OOP permits us to bundle similar properties and behaviors into containers. In Python, these containers are called Classes. \n",
    "#A class presents to the real-world an instance of itself called Objects.For example, suppose Bike is a class \n",
    "#then we can create objects like bike1 , bike2 , etc from the class.Here's the syntax to create an object. Here, bike1 is the object of the class.\n"
   ]
  },
  {
   "cell_type": "code",
   "execution_count": 4,
   "id": "1b91cfa7-b535-4269-9b9f-86f67493f417",
   "metadata": {},
   "outputs": [],
   "source": [
    "# Answer2\n",
    "#These principles are called the four pillars of object-oriented programming (OOP). \n",
    "#These four pillars are Inheritance, Polymorphism, Encapsulation and Abstraction."
   ]
  },
  {
   "cell_type": "code",
   "execution_count": 5,
   "id": "251f89cc-79af-463f-83cb-39e2658630ce",
   "metadata": {},
   "outputs": [
    {
     "name": "stdout",
     "output_type": "stream",
     "text": [
      "John\n",
      "36\n"
     ]
    }
   ],
   "source": [
    "#Answer3\n",
    "\n",
    "#\"__init__\" is a reseved method in python classes. It is called as a constructor in object oriented terminology.\n",
    "#This method is called when an object is created from a class and it allows the class to initialize the attributes of the class.\n",
    "\n",
    "class Person:\n",
    "  def __init__(self, name, age):\n",
    "    self.name = name\n",
    "    self.age = age\n",
    "\n",
    "p1 = Person(\"John\", 36)\n",
    "\n",
    "print(p1.name)\n",
    "print(p1.age)"
   ]
  },
  {
   "cell_type": "code",
   "execution_count": 6,
   "id": "33bee623-95fa-413c-af18-9cf0e0bbe8aa",
   "metadata": {},
   "outputs": [],
   "source": [
    "#Answer4\n",
    "#The self variable is used to represent the instance of the class which is often used in object-oriented programming. It works as a reference to the object. \n",
    "#Python uses the self parameter to refer to instance attributes and methods of the class."
   ]
  },
  {
   "cell_type": "code",
   "execution_count": 7,
   "id": "216e16de-92f6-4db4-ac9b-4f0690088264",
   "metadata": {},
   "outputs": [],
   "source": [
    "#Answer5\n",
    "#Inheritance is the process by which genetic information is passed on from parent to child. This is why members of the same family tend to have similar characteristics."
   ]
  },
  {
   "cell_type": "code",
   "execution_count": 8,
   "id": "7553732d-cbe2-4077-bc85-193a35fa32c6",
   "metadata": {},
   "outputs": [],
   "source": [
    "# Python program to demonstrate\n",
    "# single inheritance\n",
    " \n",
    "# Base class\n",
    "class Parent:\n",
    "    def func1(self):\n",
    "        print(\"This function is in parent class.\")\n",
    " \n",
    "# Derived class\n",
    " \n",
    " \n",
    "class Child(Parent):\n",
    "    def func2(self):\n",
    "        print(\"This function is in child class.\")"
   ]
  },
  {
   "cell_type": "code",
   "execution_count": 9,
   "id": "d529dd79-8bcc-4bd2-afe5-b46b6d1d81b6",
   "metadata": {},
   "outputs": [
    {
     "name": "stdout",
     "output_type": "stream",
     "text": [
      "This function is in parent class.\n",
      "This function is in child class.\n"
     ]
    }
   ],
   "source": [
    "# Driver's code\n",
    "object = Child()\n",
    "object.func1()\n",
    "object.func2()"
   ]
  },
  {
   "cell_type": "code",
   "execution_count": null,
   "id": "5bd88f40-bef9-4388-84b8-35a8668c80cb",
   "metadata": {},
   "outputs": [],
   "source": []
  }
 ],
 "metadata": {
  "kernelspec": {
   "display_name": "Python 3 (ipykernel)",
   "language": "python",
   "name": "python3"
  },
  "language_info": {
   "codemirror_mode": {
    "name": "ipython",
    "version": 3
   },
   "file_extension": ".py",
   "mimetype": "text/x-python",
   "name": "python",
   "nbconvert_exporter": "python",
   "pygments_lexer": "ipython3",
   "version": "3.10.8"
  }
 },
 "nbformat": 4,
 "nbformat_minor": 5
}
